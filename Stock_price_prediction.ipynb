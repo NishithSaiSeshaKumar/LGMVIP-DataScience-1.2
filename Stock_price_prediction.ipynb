{
 "cells": [
  {
   "cell_type": "markdown",
   "metadata": {},
   "source": [
    "# **Task :**\n",
    "# **Stock Prediction :**\n",
    "### Take stock price of any company you want and predicts its price by using LSTM."
   ]
  },
  {
   "cell_type": "code",
   "execution_count": 49,
   "metadata": {},
   "outputs": [],
   "source": [
    "import pandas as pd"
   ]
  },
  {
   "cell_type": "markdown",
   "metadata": {},
   "source": [
    "# EDA"
   ]
  },
  {
   "cell_type": "code",
   "execution_count": 50,
   "metadata": {},
   "outputs": [],
   "source": [
    "#pandas read AAPL csv file\n",
    "df = pd.read_csv('NSE-TATAGLOBAL.csv')"
   ]
  },
  {
   "cell_type": "code",
   "execution_count": 51,
   "metadata": {
    "scrolled": true
   },
   "outputs": [
    {
     "data": {
      "text/html": [
       "<div>\n",
       "<style scoped>\n",
       "    .dataframe tbody tr th:only-of-type {\n",
       "        vertical-align: middle;\n",
       "    }\n",
       "\n",
       "    .dataframe tbody tr th {\n",
       "        vertical-align: top;\n",
       "    }\n",
       "\n",
       "    .dataframe thead th {\n",
       "        text-align: right;\n",
       "    }\n",
       "</style>\n",
       "<table border=\"1\" class=\"dataframe\">\n",
       "  <thead>\n",
       "    <tr style=\"text-align: right;\">\n",
       "      <th></th>\n",
       "      <th>Date</th>\n",
       "      <th>Open</th>\n",
       "      <th>High</th>\n",
       "      <th>Low</th>\n",
       "      <th>Last</th>\n",
       "      <th>Close</th>\n",
       "      <th>Total Trade Quantity</th>\n",
       "      <th>Turnover (Lacs)</th>\n",
       "    </tr>\n",
       "  </thead>\n",
       "  <tbody>\n",
       "    <tr>\n",
       "      <th>0</th>\n",
       "      <td>2018-09-28</td>\n",
       "      <td>234.05</td>\n",
       "      <td>235.95</td>\n",
       "      <td>230.20</td>\n",
       "      <td>233.50</td>\n",
       "      <td>233.75</td>\n",
       "      <td>3069914</td>\n",
       "      <td>7162.35</td>\n",
       "    </tr>\n",
       "    <tr>\n",
       "      <th>1</th>\n",
       "      <td>2018-09-27</td>\n",
       "      <td>234.55</td>\n",
       "      <td>236.80</td>\n",
       "      <td>231.10</td>\n",
       "      <td>233.80</td>\n",
       "      <td>233.25</td>\n",
       "      <td>5082859</td>\n",
       "      <td>11859.95</td>\n",
       "    </tr>\n",
       "    <tr>\n",
       "      <th>2</th>\n",
       "      <td>2018-09-26</td>\n",
       "      <td>240.00</td>\n",
       "      <td>240.00</td>\n",
       "      <td>232.50</td>\n",
       "      <td>235.00</td>\n",
       "      <td>234.25</td>\n",
       "      <td>2240909</td>\n",
       "      <td>5248.60</td>\n",
       "    </tr>\n",
       "    <tr>\n",
       "      <th>3</th>\n",
       "      <td>2018-09-25</td>\n",
       "      <td>233.30</td>\n",
       "      <td>236.75</td>\n",
       "      <td>232.00</td>\n",
       "      <td>236.25</td>\n",
       "      <td>236.10</td>\n",
       "      <td>2349368</td>\n",
       "      <td>5503.90</td>\n",
       "    </tr>\n",
       "    <tr>\n",
       "      <th>4</th>\n",
       "      <td>2018-09-24</td>\n",
       "      <td>233.55</td>\n",
       "      <td>239.20</td>\n",
       "      <td>230.75</td>\n",
       "      <td>234.00</td>\n",
       "      <td>233.30</td>\n",
       "      <td>3423509</td>\n",
       "      <td>7999.55</td>\n",
       "    </tr>\n",
       "  </tbody>\n",
       "</table>\n",
       "</div>"
      ],
      "text/plain": [
       "         Date    Open    High     Low    Last   Close  Total Trade Quantity  \\\n",
       "0  2018-09-28  234.05  235.95  230.20  233.50  233.75               3069914   \n",
       "1  2018-09-27  234.55  236.80  231.10  233.80  233.25               5082859   \n",
       "2  2018-09-26  240.00  240.00  232.50  235.00  234.25               2240909   \n",
       "3  2018-09-25  233.30  236.75  232.00  236.25  236.10               2349368   \n",
       "4  2018-09-24  233.55  239.20  230.75  234.00  233.30               3423509   \n",
       "\n",
       "   Turnover (Lacs)  \n",
       "0          7162.35  \n",
       "1         11859.95  \n",
       "2          5248.60  \n",
       "3          5503.90  \n",
       "4          7999.55  "
      ]
     },
     "execution_count": 51,
     "metadata": {},
     "output_type": "execute_result"
    }
   ],
   "source": [
    "df.head()"
   ]
  },
  {
   "cell_type": "code",
   "execution_count": 52,
   "metadata": {},
   "outputs": [
    {
     "data": {
      "text/plain": [
       "(2035, 8)"
      ]
     },
     "execution_count": 52,
     "metadata": {},
     "output_type": "execute_result"
    }
   ],
   "source": [
    "df.shape"
   ]
  },
  {
   "cell_type": "markdown",
   "metadata": {},
   "source": [
    "# Separate the targeted stock prices"
   ]
  },
  {
   "cell_type": "code",
   "execution_count": 53,
   "metadata": {},
   "outputs": [],
   "source": [
    "df1=df.reset_index()['Close']"
   ]
  },
  {
   "cell_type": "code",
   "execution_count": 54,
   "metadata": {},
   "outputs": [
    {
     "data": {
      "text/plain": [
       "0       233.75\n",
       "1       233.25\n",
       "2       234.25\n",
       "3       236.10\n",
       "4       233.30\n",
       "         ...  \n",
       "2030    118.65\n",
       "2031    117.60\n",
       "2032    120.65\n",
       "2033    120.90\n",
       "2034    121.55\n",
       "Name: Close, Length: 2035, dtype: float64"
      ]
     },
     "execution_count": 54,
     "metadata": {},
     "output_type": "execute_result"
    }
   ],
   "source": [
    "df1"
   ]
  },
  {
   "cell_type": "markdown",
   "metadata": {},
   "source": [
    "Stock"
   ]
  },
  {
   "cell_type": "markdown",
   "metadata": {},
   "source": [
    "# Plot the actual stock prices"
   ]
  },
  {
   "cell_type": "code",
   "execution_count": 55,
   "metadata": {},
   "outputs": [
    {
     "data": {
      "text/plain": [
       "[<matplotlib.lines.Line2D at 0x23c425836d0>]"
      ]
     },
     "execution_count": 55,
     "metadata": {},
     "output_type": "execute_result"
    },
    {
     "data": {
      "image/png": "[encoded data removed]",
      "text/plain": [
       "<Figure size 640x480 with 1 Axes>"
      ]
     },
     "metadata": {},
     "output_type": "display_data"
    }
   ],
   "source": [
    "import matplotlib.pyplot as plt\n",
    "plt.plot(df1)"
   ]
  },
  {
   "cell_type": "markdown",
   "metadata": {},
   "source": [
    "### LSTM are sensitive to the scale of the data. so we apply MinMax scaler "
   ]
  },
  {
   "cell_type": "code",
   "execution_count": 56,
   "metadata": {},
   "outputs": [],
   "source": [
    "import numpy as np"
   ]
  },
  {
   "cell_type": "code",
   "execution_count": 57,
   "metadata": {},
   "outputs": [],
   "source": [
    "from sklearn.preprocessing import MinMaxScaler\n",
    "scaler=MinMaxScaler()"
   ]
  },
  {
   "cell_type": "code",
   "execution_count": 58,
   "metadata": {},
   "outputs": [],
   "source": [
    "df1 = df1.values.reshape(-1,1)\n",
    "\n",
    "# Initialize the MinMaxScaler\n",
    "scaler = MinMaxScaler()\n",
    "\n",
    "# Fit and transform the data\n",
    "df1 = scaler.fit_transform(df1)"
   ]
  },
  {
   "cell_type": "markdown",
   "metadata": {},
   "source": [
    "# Split the data into train and test"
   ]
  },
  {
   "cell_type": "code",
   "execution_count": 59,
   "metadata": {},
   "outputs": [],
   "source": [
    "##splitting dataset into train and test split\n",
    "training_size=int(len(df1)*0.65)\n",
    "test_size=len(df1)-training_size\n",
    "train_data,test_data=df1[0:training_size,:],df1[training_size:len(df1),:1]"
   ]
  },
  {
   "cell_type": "code",
   "execution_count": 60,
   "metadata": {},
   "outputs": [
    {
     "data": {
      "text/plain": [
       "(1322, 713)"
      ]
     },
     "execution_count": 60,
     "metadata": {},
     "output_type": "execute_result"
    }
   ],
   "source": [
    "training_size,test_size"
   ]
  },
  {
   "cell_type": "markdown",
   "metadata": {},
   "source": [
    "### Make data for LSTM as X_train, y_train, X_test, y_test"
   ]
  },
  {
   "cell_type": "code",
   "execution_count": 61,
   "metadata": {},
   "outputs": [],
   "source": [
    "import numpy\n",
    "# convert an array of values into a dataset matrix\n",
    "def create_dataset(dataset, time_step=1):\n",
    "\tdataX, dataY = [], []\n",
    "\tfor i in range(len(dataset)-time_step-1):\n",
    "\t\ta = dataset[i:(i+time_step), 0]   ###i=0, 0,1,2,3-----99   100 \n",
    "\t\tdataX.append(a)\n",
    "\t\tdataY.append(dataset[i + time_step, 0])\n",
    "\treturn numpy.array(dataX), numpy.array(dataY)"
   ]
  },
  {
   "cell_type": "code",
   "execution_count": 62,
   "metadata": {},
   "outputs": [],
   "source": [
    "# reshape into X=t,t+1,t+2,t+3 and Y=t+4\n",
    "time_step = 100\n",
    "X_train, y_train = create_dataset(train_data, time_step)\n",
    "X_test, ytest = create_dataset(test_data, time_step)"
   ]
  },
  {
   "cell_type": "code",
   "execution_count": 63,
   "metadata": {},
   "outputs": [
    {
     "name": "stdout",
     "output_type": "stream",
     "text": [
      "(1221, 100)\n",
      "(1221,)\n"
     ]
    },
    {
     "data": {
      "text/plain": [
       "(None, None)"
      ]
     },
     "execution_count": 63,
     "metadata": {},
     "output_type": "execute_result"
    }
   ],
   "source": [
    "print(X_train.shape), print(y_train.shape)"
   ]
  },
  {
   "cell_type": "code",
   "execution_count": 64,
   "metadata": {},
   "outputs": [
    {
     "name": "stdout",
     "output_type": "stream",
     "text": [
      "(612, 100)\n",
      "(612,)\n"
     ]
    },
    {
     "data": {
      "text/plain": [
       "(None, None)"
      ]
     },
     "execution_count": 64,
     "metadata": {},
     "output_type": "execute_result"
    }
   ],
   "source": [
    "print(X_test.shape), print(ytest.shape)"
   ]
  },
  {
   "cell_type": "code",
   "execution_count": 65,
   "metadata": {},
   "outputs": [],
   "source": [
    "# reshape input to be [samples, time steps, features] which is required for LSTM\n",
    "X_train =X_train.reshape(X_train.shape[0],X_train.shape[1] , 1)\n",
    "X_test = X_test.reshape(X_test.shape[0],X_test.shape[1] , 1)"
   ]
  },
  {
   "cell_type": "markdown",
   "metadata": {},
   "source": [
    "### Build the LSTM model"
   ]
  },
  {
   "cell_type": "code",
   "execution_count": 66,
   "metadata": {},
   "outputs": [],
   "source": [
    "### Create the Stacked LSTM model\n",
    "from tensorflow.keras.models import Sequential\n",
    "from tensorflow.keras.layers import Dense\n",
    "from tensorflow.keras.layers import LSTM"
   ]
  },
  {
   "cell_type": "code",
   "execution_count": 67,
   "metadata": {},
   "outputs": [],
   "source": [
    "model=Sequential()\n",
    "model.add(LSTM(50,return_sequences=True,input_shape=(100,1)))\n",
    "model.add(LSTM(50,return_sequences=True))\n",
    "model.add(LSTM(50))\n",
    "model.add(Dense(1))\n",
    "model.compile(loss='mean_squared_error',optimizer='adam')\n"
   ]
  },
  {
   "cell_type": "code",
   "execution_count": 68,
   "metadata": {
    "scrolled": true
   },
   "outputs": [
    {
     "name": "stdout",
     "output_type": "stream",
     "text": [
      "Model: \"sequential_1\"\n",
      "_________________________________________________________________\n",
      " Layer (type)                Output Shape              Param #   \n",
      "=================================================================\n",
      " lstm_3 (LSTM)               (None, 100, 50)           10400     \n",
      "                                                                 \n",
      " lstm_4 (LSTM)               (None, 100, 50)           20200     \n",
      "                                                                 \n",
      " lstm_5 (LSTM)               (None, 50)                20200     \n",
      "                                                                 \n",
      " dense_1 (Dense)             (None, 1)                 51        \n",
      "                                                                 \n",
      "=================================================================\n",
      "Total params: 50851 (198.64 KB)\n",
      "Trainable params: 50851 (198.64 KB)\n",
      "Non-trainable params: 0 (0.00 Byte)\n",
      "_________________________________________________________________\n"
     ]
    }
   ],
   "source": [
    "model.summary()"
   ]
  },
  {
   "cell_type": "markdown",
   "metadata": {},
   "source": [
    "### Train the model"
   ]
  },
  {
   "cell_type": "code",
   "execution_count": 69,
   "metadata": {},
   "outputs": [
    {
     "name": "stdout",
     "output_type": "stream",
     "text": [
      "Epoch 1/100\n"
     ]
    },
    {
     "name": "stdout",
     "output_type": "stream",
     "text": [
      "20/20 [==============================] - 7s 163ms/step - loss: 0.0304 - val_loss: 0.0043\n",
      "Epoch 2/100\n",
      "20/20 [==============================] - 2s 118ms/step - loss: 0.0036 - val_loss: 0.0012\n",
      "Epoch 3/100\n",
      "20/20 [==============================] - 2s 122ms/step - loss: 0.0018 - val_loss: 0.0010\n",
      "Epoch 4/100\n",
      "20/20 [==============================] - 2s 116ms/step - loss: 0.0016 - val_loss: 0.0012\n",
      "Epoch 5/100\n",
      "20/20 [==============================] - 2s 116ms/step - loss: 0.0016 - val_loss: 9.5491e-04\n",
      "Epoch 6/100\n",
      "20/20 [==============================] - 2s 119ms/step - loss: 0.0014 - val_loss: 0.0010\n",
      "Epoch 7/100\n",
      "20/20 [==============================] - 2s 122ms/step - loss: 0.0013 - val_loss: 0.0010\n",
      "Epoch 8/100\n",
      "20/20 [==============================] - 2s 116ms/step - loss: 0.0013 - val_loss: 9.2045e-04\n",
      "Epoch 9/100\n",
      "20/20 [==============================] - 2s 116ms/step - loss: 0.0015 - val_loss: 7.6173e-04\n",
      "Epoch 10/100\n",
      "20/20 [==============================] - 3s 132ms/step - loss: 0.0012 - val_loss: 0.0010\n",
      "Epoch 11/100\n",
      "20/20 [==============================] - 2s 122ms/step - loss: 0.0012 - val_loss: 6.6803e-04\n",
      "Epoch 12/100\n",
      "20/20 [==============================] - 3s 136ms/step - loss: 0.0013 - val_loss: 8.3766e-04\n",
      "Epoch 13/100\n",
      "20/20 [==============================] - 2s 123ms/step - loss: 0.0011 - val_loss: 9.0669e-04\n",
      "Epoch 14/100\n",
      "20/20 [==============================] - 2s 117ms/step - loss: 0.0010 - val_loss: 6.5718e-04\n",
      "Epoch 15/100\n",
      "20/20 [==============================] - 2s 116ms/step - loss: 0.0011 - val_loss: 7.7321e-04\n",
      "Epoch 16/100\n",
      "20/20 [==============================] - 2s 117ms/step - loss: 9.7907e-04 - val_loss: 6.3115e-04\n",
      "Epoch 17/100\n",
      "20/20 [==============================] - 2s 116ms/step - loss: 9.9164e-04 - val_loss: 9.9099e-04\n",
      "Epoch 18/100\n",
      "20/20 [==============================] - 2s 115ms/step - loss: 9.4931e-04 - val_loss: 0.0011\n",
      "Epoch 19/100\n",
      "20/20 [==============================] - 2s 119ms/step - loss: 9.3652e-04 - val_loss: 7.9509e-04\n",
      "Epoch 20/100\n",
      "20/20 [==============================] - 2s 121ms/step - loss: 8.2863e-04 - val_loss: 7.1977e-04\n",
      "Epoch 21/100\n",
      "20/20 [==============================] - 2s 113ms/step - loss: 8.2944e-04 - val_loss: 8.3247e-04\n",
      "Epoch 22/100\n",
      "20/20 [==============================] - 2s 122ms/step - loss: 7.7568e-04 - val_loss: 6.5287e-04\n",
      "Epoch 23/100\n",
      "20/20 [==============================] - 2s 121ms/step - loss: 8.3828e-04 - val_loss: 8.9234e-04\n",
      "Epoch 24/100\n",
      "20/20 [==============================] - 2s 120ms/step - loss: 8.7621e-04 - val_loss: 6.5185e-04\n",
      "Epoch 25/100\n",
      "20/20 [==============================] - 2s 117ms/step - loss: 0.0012 - val_loss: 0.0010\n",
      "Epoch 26/100\n",
      "20/20 [==============================] - 2s 118ms/step - loss: 7.9556e-04 - val_loss: 8.4920e-04\n",
      "Epoch 27/100\n",
      "20/20 [==============================] - 2s 117ms/step - loss: 7.4807e-04 - val_loss: 9.2680e-04\n",
      "Epoch 28/100\n",
      "20/20 [==============================] - 2s 118ms/step - loss: 8.8648e-04 - val_loss: 0.0012\n",
      "Epoch 29/100\n",
      "20/20 [==============================] - 2s 116ms/step - loss: 7.1734e-04 - val_loss: 6.8981e-04\n",
      "Epoch 30/100\n",
      "20/20 [==============================] - 2s 120ms/step - loss: 7.0452e-04 - val_loss: 8.1170e-04\n",
      "Epoch 31/100\n",
      "20/20 [==============================] - 2s 117ms/step - loss: 6.9601e-04 - val_loss: 7.1691e-04\n",
      "Epoch 32/100\n",
      "20/20 [==============================] - 2s 118ms/step - loss: 6.6953e-04 - val_loss: 7.6659e-04\n",
      "Epoch 33/100\n",
      "20/20 [==============================] - 2s 118ms/step - loss: 6.3295e-04 - val_loss: 7.1539e-04\n",
      "Epoch 34/100\n",
      "20/20 [==============================] - 2s 117ms/step - loss: 7.0346e-04 - val_loss: 9.5931e-04\n",
      "Epoch 35/100\n",
      "20/20 [==============================] - 2s 120ms/step - loss: 7.8353e-04 - val_loss: 6.6787e-04\n",
      "Epoch 36/100\n",
      "20/20 [==============================] - 2s 117ms/step - loss: 6.4567e-04 - val_loss: 5.9761e-04\n",
      "Epoch 37/100\n",
      "20/20 [==============================] - 2s 117ms/step - loss: 6.2350e-04 - val_loss: 7.5420e-04\n",
      "Epoch 38/100\n",
      "20/20 [==============================] - 2s 117ms/step - loss: 6.1773e-04 - val_loss: 7.5272e-04\n",
      "Epoch 39/100\n",
      "20/20 [==============================] - 2s 117ms/step - loss: 6.2313e-04 - val_loss: 6.9667e-04\n",
      "Epoch 40/100\n",
      "20/20 [==============================] - 2s 117ms/step - loss: 6.3583e-04 - val_loss: 6.1118e-04\n",
      "Epoch 41/100\n",
      "20/20 [==============================] - 2s 115ms/step - loss: 5.8544e-04 - val_loss: 5.1171e-04\n",
      "Epoch 42/100\n",
      "20/20 [==============================] - 2s 115ms/step - loss: 7.8570e-04 - val_loss: 8.4919e-04\n",
      "Epoch 43/100\n",
      "20/20 [==============================] - 2s 115ms/step - loss: 5.8636e-04 - val_loss: 7.9926e-04\n",
      "Epoch 44/100\n",
      "20/20 [==============================] - 2s 118ms/step - loss: 6.0419e-04 - val_loss: 5.8653e-04\n",
      "Epoch 45/100\n",
      "20/20 [==============================] - 2s 117ms/step - loss: 5.9825e-04 - val_loss: 5.5267e-04\n",
      "Epoch 46/100\n",
      "20/20 [==============================] - 2s 115ms/step - loss: 6.1535e-04 - val_loss: 4.8781e-04\n",
      "Epoch 47/100\n",
      "20/20 [==============================] - 2s 118ms/step - loss: 5.4598e-04 - val_loss: 6.4054e-04\n",
      "Epoch 48/100\n",
      "20/20 [==============================] - 2s 114ms/step - loss: 5.8796e-04 - val_loss: 5.5748e-04\n",
      "Epoch 49/100\n",
      "20/20 [==============================] - 2s 117ms/step - loss: 6.1075e-04 - val_loss: 8.0210e-04\n",
      "Epoch 50/100\n",
      "20/20 [==============================] - 2s 119ms/step - loss: 5.9159e-04 - val_loss: 7.1876e-04\n",
      "Epoch 51/100\n",
      "20/20 [==============================] - 2s 116ms/step - loss: 5.0614e-04 - val_loss: 5.0955e-04\n",
      "Epoch 52/100\n",
      "20/20 [==============================] - 2s 116ms/step - loss: 4.8586e-04 - val_loss: 5.6527e-04\n",
      "Epoch 53/100\n",
      "20/20 [==============================] - 2s 116ms/step - loss: 4.8998e-04 - val_loss: 6.7384e-04\n",
      "Epoch 54/100\n",
      "20/20 [==============================] - 2s 121ms/step - loss: 5.3331e-04 - val_loss: 4.4955e-04\n",
      "Epoch 55/100\n",
      "20/20 [==============================] - 2s 120ms/step - loss: 4.9399e-04 - val_loss: 4.1330e-04\n",
      "Epoch 56/100\n",
      "20/20 [==============================] - 2s 120ms/step - loss: 4.6148e-04 - val_loss: 4.3342e-04\n",
      "Epoch 57/100\n",
      "20/20 [==============================] - 2s 119ms/step - loss: 4.6350e-04 - val_loss: 8.1965e-04\n",
      "Epoch 58/100\n",
      "20/20 [==============================] - 2s 119ms/step - loss: 5.7789e-04 - val_loss: 4.4992e-04\n",
      "Epoch 59/100\n",
      "20/20 [==============================] - 2s 119ms/step - loss: 5.5721e-04 - val_loss: 4.1246e-04\n",
      "Epoch 60/100\n",
      "20/20 [==============================] - 2s 121ms/step - loss: 4.2058e-04 - val_loss: 4.6013e-04\n",
      "Epoch 61/100\n",
      "20/20 [==============================] - 2s 121ms/step - loss: 4.1695e-04 - val_loss: 4.3577e-04\n",
      "Epoch 62/100\n",
      "20/20 [==============================] - 2s 118ms/step - loss: 4.5924e-04 - val_loss: 6.0348e-04\n",
      "Epoch 63/100\n",
      "20/20 [==============================] - 2s 119ms/step - loss: 4.7233e-04 - val_loss: 3.4245e-04\n",
      "Epoch 64/100\n",
      "20/20 [==============================] - 2s 117ms/step - loss: 3.7927e-04 - val_loss: 4.7185e-04\n",
      "Epoch 65/100\n",
      "20/20 [==============================] - 2s 118ms/step - loss: 3.7900e-04 - val_loss: 3.9669e-04\n",
      "Epoch 66/100\n",
      "20/20 [==============================] - 2s 120ms/step - loss: 5.5013e-04 - val_loss: 4.4223e-04\n",
      "Epoch 67/100\n",
      "20/20 [==============================] - 2s 120ms/step - loss: 4.9285e-04 - val_loss: 4.3967e-04\n",
      "Epoch 68/100\n",
      "20/20 [==============================] - 2s 123ms/step - loss: 3.9478e-04 - val_loss: 6.4630e-04\n",
      "Epoch 69/100\n",
      "20/20 [==============================] - 2s 120ms/step - loss: 6.1748e-04 - val_loss: 4.2292e-04\n",
      "Epoch 70/100\n",
      "20/20 [==============================] - 2s 120ms/step - loss: 4.4124e-04 - val_loss: 3.9378e-04\n",
      "Epoch 71/100\n",
      "20/20 [==============================] - 2s 119ms/step - loss: 3.5812e-04 - val_loss: 3.6267e-04\n",
      "Epoch 72/100\n",
      "20/20 [==============================] - 2s 118ms/step - loss: 3.5190e-04 - val_loss: 3.7108e-04\n",
      "Epoch 73/100\n",
      "20/20 [==============================] - 2s 119ms/step - loss: 3.1469e-04 - val_loss: 3.2221e-04\n",
      "Epoch 74/100\n",
      "20/20 [==============================] - 2s 116ms/step - loss: 3.1413e-04 - val_loss: 3.8692e-04\n",
      "Epoch 75/100\n",
      "20/20 [==============================] - 2s 119ms/step - loss: 3.8360e-04 - val_loss: 3.5716e-04\n",
      "Epoch 76/100\n",
      "20/20 [==============================] - 2s 118ms/step - loss: 3.2839e-04 - val_loss: 3.1967e-04\n",
      "Epoch 77/100\n",
      "20/20 [==============================] - 2s 117ms/step - loss: 2.9332e-04 - val_loss: 3.2579e-04\n",
      "Epoch 78/100\n",
      "20/20 [==============================] - 2s 118ms/step - loss: 2.9088e-04 - val_loss: 5.9849e-04\n",
      "Epoch 79/100\n",
      "20/20 [==============================] - 2s 122ms/step - loss: 4.0268e-04 - val_loss: 2.9946e-04\n",
      "Epoch 80/100\n",
      "20/20 [==============================] - 2s 119ms/step - loss: 3.3341e-04 - val_loss: 6.0170e-04\n",
      "Epoch 81/100\n",
      "20/20 [==============================] - 2s 118ms/step - loss: 5.5108e-04 - val_loss: 2.9458e-04\n",
      "Epoch 82/100\n",
      "20/20 [==============================] - 2s 120ms/step - loss: 3.0187e-04 - val_loss: 2.8944e-04\n",
      "Epoch 83/100\n",
      "20/20 [==============================] - 2s 121ms/step - loss: 2.7642e-04 - val_loss: 2.9811e-04\n",
      "Epoch 84/100\n",
      "20/20 [==============================] - 3s 128ms/step - loss: 2.7610e-04 - val_loss: 2.9725e-04\n",
      "Epoch 85/100\n",
      "20/20 [==============================] - 2s 124ms/step - loss: 2.9693e-04 - val_loss: 3.2264e-04\n",
      "Epoch 86/100\n",
      "20/20 [==============================] - 2s 120ms/step - loss: 2.7280e-04 - val_loss: 2.5308e-04\n",
      "Epoch 87/100\n",
      "20/20 [==============================] - 2s 120ms/step - loss: 2.7286e-04 - val_loss: 2.5389e-04\n",
      "Epoch 88/100\n",
      "20/20 [==============================] - 2s 121ms/step - loss: 2.5791e-04 - val_loss: 2.7112e-04\n",
      "Epoch 89/100\n",
      "20/20 [==============================] - 2s 121ms/step - loss: 2.5666e-04 - val_loss: 3.5525e-04\n",
      "Epoch 90/100\n",
      "20/20 [==============================] - 2s 119ms/step - loss: 2.4813e-04 - val_loss: 3.7433e-04\n",
      "Epoch 91/100\n",
      "20/20 [==============================] - 2s 123ms/step - loss: 2.6052e-04 - val_loss: 2.5041e-04\n",
      "Epoch 92/100\n",
      "20/20 [==============================] - 2s 121ms/step - loss: 2.5518e-04 - val_loss: 2.2148e-04\n",
      "Epoch 93/100\n",
      "20/20 [==============================] - 2s 120ms/step - loss: 2.6723e-04 - val_loss: 2.1930e-04\n",
      "Epoch 94/100\n",
      "20/20 [==============================] - 2s 120ms/step - loss: 3.0614e-04 - val_loss: 2.2089e-04\n",
      "Epoch 95/100\n",
      "20/20 [==============================] - 2s 121ms/step - loss: 2.7070e-04 - val_loss: 2.2699e-04\n",
      "Epoch 96/100\n",
      "20/20 [==============================] - 2s 121ms/step - loss: 3.3633e-04 - val_loss: 3.2263e-04\n",
      "Epoch 97/100\n",
      "20/20 [==============================] - 2s 117ms/step - loss: 2.6662e-04 - val_loss: 2.5159e-04\n",
      "Epoch 98/100\n",
      "20/20 [==============================] - 2s 121ms/step - loss: 2.4515e-04 - val_loss: 2.2335e-04\n",
      "Epoch 99/100\n",
      "20/20 [==============================] - 2s 119ms/step - loss: 2.4397e-04 - val_loss: 3.1637e-04\n",
      "Epoch 100/100\n",
      "20/20 [==============================] - 2s 120ms/step - loss: 2.3248e-04 - val_loss: 2.8567e-04\n"
     ]
    },
    {
     "data": {
      "text/plain": [
       "<keras.src.callbacks.History at 0x23c498b4450>"
      ]
     },
     "execution_count": 69,
     "metadata": {},
     "output_type": "execute_result"
    }
   ],
   "source": [
    "model.fit(X_train,y_train,validation_data=(X_test,ytest),epochs=100,batch_size=64,verbose=1)"
   ]
  },
  {
   "cell_type": "markdown",
   "metadata": {},
   "source": [
    "### Make Predictions"
   ]
  },
  {
   "cell_type": "code",
   "execution_count": 87,
   "metadata": {},
   "outputs": [],
   "source": [
    "import tensorflow as tf"
   ]
  },
  {
   "cell_type": "code",
   "execution_count": 88,
   "metadata": {},
   "outputs": [
    {
     "name": "stdout",
     "output_type": "stream",
     "text": [
      "39/39 [==============================] - 1s 21ms/step\n",
      "20/20 [==============================] - 0s 21ms/step\n"
     ]
    }
   ],
   "source": [
    "### Lets Do the prediction and check performance metrics\n",
    "train_predict=model.predict(X_train)\n",
    "test_predict=model.predict(X_test)"
   ]
  },
  {
   "cell_type": "code",
   "execution_count": 89,
   "metadata": {},
   "outputs": [],
   "source": [
    "##Transformback to original form\n",
    "train_predict=scaler.inverse_transform(train_predict)\n",
    "test_predict=scaler.inverse_transform(test_predict)"
   ]
  },
  {
   "cell_type": "markdown",
   "metadata": {},
   "source": [
    "### Plot the comparison between actual and predicted"
   ]
  },
  {
   "cell_type": "code",
   "execution_count": 90,
   "metadata": {},
   "outputs": [
    {
     "data": {
      "image/png": "[encoded data removed]",
      "text/plain": [
       "<Figure size 640x480 with 1 Axes>"
      ]
     },
     "metadata": {},
     "output_type": "display_data"
    }
   ],
   "source": [
    "### Plotting \n",
    "# shift train predictions for plotting\n",
    "look_back=100\n",
    "trainPredictPlot = numpy.empty_like(df1)\n",
    "trainPredictPlot[:, :] = np.nan\n",
    "trainPredictPlot[look_back:len(train_predict)+look_back, :] = train_predict\n",
    "# shift test predictions for plotting\n",
    "testPredictPlot = numpy.empty_like(df1)\n",
    "testPredictPlot[:, :] = numpy.nan\n",
    "testPredictPlot[len(train_predict)+(look_back*2)+1:len(df1)-1, :] = test_predict\n",
    "# plot baseline and predictions\n",
    "plt.plot(scaler.inverse_transform(df1),label=\"Actual Price\")\n",
    "plt.plot(trainPredictPlot,label=\"Train Price\")\n",
    "plt.plot(testPredictPlot,label=\"Predicted Price\")\n",
    "plt.legend()\n",
    "plt.show()"
   ]
  },
  {
   "cell_type": "code",
   "execution_count": 91,
   "metadata": {},
   "outputs": [
    {
     "data": {
      "text/plain": [
       "713"
      ]
     },
     "execution_count": 91,
     "metadata": {},
     "output_type": "execute_result"
    }
   ],
   "source": [
    "len(test_data)"
   ]
  },
  {
   "cell_type": "markdown",
   "metadata": {},
   "source": [
    "### Predict next 30 days with last 100 days data"
   ]
  },
  {
   "cell_type": "code",
   "execution_count": 92,
   "metadata": {},
   "outputs": [
    {
     "data": {
      "text/plain": [
       "(1, 304)"
      ]
     },
     "execution_count": 92,
     "metadata": {},
     "output_type": "execute_result"
    }
   ],
   "source": [
    "#taking last 100 days data\n",
    "x_input=test_data[409:].reshape(1,-1)\n",
    "x_input.shape\n"
   ]
  },
  {
   "cell_type": "markdown",
   "metadata": {},
   "source": [
    "### Split target data of last 100 days and 30 days"
   ]
  },
  {
   "cell_type": "code",
   "execution_count": 93,
   "metadata": {},
   "outputs": [
    {
     "name": "stdout",
     "output_type": "stream",
     "text": [
      "[[0.16845521330833435], [0.17150607705116272], [0.17400610446929932], [0.17616315186023712], [0.1780814379453659], [0.1798098236322403], [0.18138094246387482], [0.1828235387802124], [0.18416284024715424], [0.18541879951953888], [0.18660591542720795], [0.18773426115512848], [0.18881070613861084], [0.189840629696846], [0.19082865118980408], [0.19177940487861633], [0.19269785284996033], [0.19358906149864197], [0.19445832073688507], [0.1953105479478836], [0.1961502730846405], [0.19698138535022736], [0.19780674576759338], [0.19862841069698334], [0.19944749772548676], [0.20026448369026184], [0.20107890665531158], [0.20188991725444794]]\n"
     ]
    }
   ],
   "source": [
    "temp_input = list(x_input)\n",
    "temp_input = temp_input[0].tolist()\n",
    "\n",
    "lst_output = []\n",
    "n_steps = 100\n",
    "nextNumberOfDays = 28\n",
    "i = 0\n",
    "\n",
    "while i < nextNumberOfDays:\n",
    "\n",
    "    if len(temp_input) >= n_steps:\n",
    "        x_input = np.array(temp_input[-n_steps:]).reshape((1, n_steps, 1))\n",
    "        yhat = model.predict(x_input, verbose=0)\n",
    "        temp_input.extend(yhat[0].tolist())\n",
    "        lst_output.extend(yhat.tolist())\n",
    "        i = i + 1\n",
    "    else:\n",
    "        x_input = np.array(temp_input).reshape((1, len(temp_input), 1))\n",
    "        yhat = model.predict(x_input, verbose=0)\n",
    "        temp_input.extend(yhat[0].tolist())\n",
    "        lst_output.extend(yhat.tolist())\n",
    "        i = i + 1\n",
    "\n",
    "print(lst_output)"
   ]
  },
  {
   "cell_type": "code",
   "execution_count": 94,
   "metadata": {},
   "outputs": [],
   "source": [
    "# demonstrate the prediction for next 10 days"
   ]
  },
  {
   "cell_type": "code",
   "execution_count": 95,
   "metadata": {},
   "outputs": [],
   "source": [
    "day_new=np.arange(1,101)\n",
    "day_pred=np.arange(101,101+len(lst_output))"
   ]
  },
  {
   "cell_type": "markdown",
   "metadata": {},
   "source": [
    "### Plot the continous 30 days prediction"
   ]
  },
  {
   "cell_type": "code",
   "execution_count": 96,
   "metadata": {},
   "outputs": [
    {
     "data": {
      "image/png": "[encoded data removed]",
      "text/plain": [
       "<Figure size 640x480 with 1 Axes>"
      ]
     },
     "metadata": {},
     "output_type": "display_data"
    }
   ],
   "source": [
    "# Plot the original 100 days data\n",
    "plt.plot(day_new, scaler.inverse_transform(df1[:100]), label='Original 100 days data')\n",
    "\n",
    "# Plot the next 30 days prediction\n",
    "plt.plot(day_pred, scaler.inverse_transform(lst_output), label='Next 30 days prediction')\n",
    "\n",
    "plt.legend()\n",
    "plt.show()\n"
   ]
  },
  {
   "cell_type": "markdown",
   "metadata": {},
   "source": [
    "# Thank you"
   ]
  },
  {
   "cell_type": "code",
   "execution_count": null,
   "metadata": {},
   "outputs": [],
   "source": []
  }
 ],
 "metadata": {
  "kernelspec": {
   "display_name": "Python 3 (ipykernel)",
   "language": "python",
   "name": "python3"
  },
  "language_info": {
   "codemirror_mode": {
    "name": "ipython",
    "version": 3
   },
   "file_extension": ".py",
   "mimetype": "text/x-python",
   "name": "python",
   "nbconvert_exporter": "python",
   "pygments_lexer": "ipython3",
   "version": "3.11.5"
  }
 },
 "nbformat": 4,
 "nbformat_minor": 2
}
